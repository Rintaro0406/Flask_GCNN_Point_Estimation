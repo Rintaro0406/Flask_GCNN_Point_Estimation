{
 "cells": [
  {
   "cell_type": "code",
   "execution_count": 5,
   "id": "2c7041ee-e281-4ba8-9015-180c2b422e80",
   "metadata": {},
   "outputs": [],
   "source": [
    "import numpy as np\n",
    "import pyDOE as pyDOE\n",
    "import numpy as np"
   ]
  },
  {
   "cell_type": "code",
   "execution_count": 6,
   "id": "da5cc6c6-e041-41e9-b107-192e93198a59",
   "metadata": {},
   "outputs": [
    {
     "name": "stdout",
     "output_type": "stream",
     "text": [
      "0.485965965965966\n"
     ]
    }
   ],
   "source": [
    "# number of parameters and samples\n",
    "\n",
    "n_params = 2\n",
    "n_samples = 1000\n",
    "\n",
    "# parameter ranges\n",
    "#prior from Cosmic Shear Covariance Matrix in wCDM: Cosmology Matters\n",
    "\n",
    "omgM =     np.linspace(0.1,0.55,n_samples)\n",
    "sig8  =     np.linspace(0.44,1.56,n_samples)\n",
    "# LHS grid\n",
    "\n",
    "AllParams = np.vstack([omgM,sig8])\n",
    "lhd = pyDOE.lhs(n_params, samples=n_samples, criterion=None)\n",
    "idx = (lhd * n_samples).astype(int)\n",
    "\n",
    "AllCombinations = np.zeros((n_samples, n_params))\n",
    "for i in range(n_params):\n",
    "    AllCombinations[:, i] = AllParams[i][idx[:, i]]\n",
    "print(AllCombinations[2,1])\n",
    "# saving\n",
    "\n",
    "params = {'omega_matter': AllCombinations[:, 0],\n",
    "          'sigma_8': AllCombinations[:, 1],\n",
    "           }\n",
    "\n",
    "np.savez('/project/ls-gruen/users/r.kanaki/LHS_result/train1000/training_rintaro_LHS_parameter_file.npz', **params)"
   ]
  },
  {
   "cell_type": "code",
   "execution_count": 7,
   "id": "ca9ba056-4e33-4c60-a0f3-685f3b3b1644",
   "metadata": {},
   "outputs": [
    {
     "name": "stdout",
     "output_type": "stream",
     "text": [
      "0.9521608040201006\n"
     ]
    }
   ],
   "source": [
    "# number of parameters and samples\n",
    "\n",
    "n_params = 2\n",
    "n_samples = 200\n",
    "\n",
    "# parameter ranges\n",
    "#prior from Cosmic Shear Covariance Matrix in wCDM: Cosmology Matters\n",
    "\n",
    "omgM =     np.linspace(0.1,0.55,n_samples)\n",
    "sig8  =     np.linspace(0.44,1.56,n_samples)\n",
    "# LHS grid\n",
    "\n",
    "AllParams = np.vstack([omgM,sig8])\n",
    "lhd = pyDOE.lhs(n_params, samples=n_samples, criterion=None)\n",
    "idx = (lhd * n_samples).astype(int)\n",
    "\n",
    "AllCombinations = np.zeros((n_samples, n_params))\n",
    "for i in range(n_params):\n",
    "    AllCombinations[:, i] = AllParams[i][idx[:, i]]\n",
    "print(AllCombinations[2,1])\n",
    "# saving\n",
    "\n",
    "params = {'omega_matter': AllCombinations[:, 0],\n",
    "          'sigma_8': AllCombinations[:, 1],\n",
    "           }\n",
    "\n",
    "np.savez('/project/ls-gruen/users/r.kanaki/LHS_result/test200/test_rintaro_LHS_parameter_file.npz', **params)"
   ]
  }
 ],
 "metadata": {
  "kernelspec": {
   "display_name": "Python 3",
   "language": "python",
   "name": "python3"
  },
  "language_info": {
   "codemirror_mode": {
    "name": "ipython",
    "version": 3
   },
   "file_extension": ".py",
   "mimetype": "text/x-python",
   "name": "python",
   "nbconvert_exporter": "python",
   "pygments_lexer": "ipython3",
   "version": "3.10.5"
  }
 },
 "nbformat": 4,
 "nbformat_minor": 5
}
